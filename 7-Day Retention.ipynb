{
 "cells": [
  {
   "cell_type": "code",
   "execution_count": 304,
   "metadata": {
    "collapsed": true
   },
   "outputs": [],
   "source": [
    "#import useful modules\n",
    "import numpy as np\n",
    "import pandas as pd\n",
    "from __future__ import division"
   ]
  },
  {
   "cell_type": "code",
   "execution_count": 305,
   "metadata": {
    "collapsed": true
   },
   "outputs": [],
   "source": [
    "data = pd.read_csv(\"/Users/suruisun/Downloads/kamcord_data.csv\") # read the csv file into Pandas DataFrame"
   ]
  },
  {
   "cell_type": "code",
   "execution_count": 306,
   "metadata": {
    "collapsed": false
   },
   "outputs": [
    {
     "data": {
      "text/html": [
       "<div>\n",
       "<table border=\"1\" class=\"dataframe\">\n",
       "  <thead>\n",
       "    <tr style=\"text-align: right;\">\n",
       "      <th></th>\n",
       "      <th>Unnamed: 0</th>\n",
       "      <th>user_id</th>\n",
       "      <th>event_name</th>\n",
       "      <th>event_time</th>\n",
       "      <th>os_name</th>\n",
       "      <th>app_version</th>\n",
       "    </tr>\n",
       "  </thead>\n",
       "  <tbody>\n",
       "    <tr>\n",
       "      <th>0</th>\n",
       "      <td>0</td>\n",
       "      <td>5be921e9-e2bd-47ac-b1c8-94f7289324a2</td>\n",
       "      <td>APP_CLOSED</td>\n",
       "      <td>2016-09-18 03:06:25</td>\n",
       "      <td>android</td>\n",
       "      <td>2.5.1</td>\n",
       "    </tr>\n",
       "    <tr>\n",
       "      <th>1</th>\n",
       "      <td>1</td>\n",
       "      <td>24f3d080-06b3-4053-b1c0-c1f4e40455d5</td>\n",
       "      <td>APP_CLOSED</td>\n",
       "      <td>2016-09-05 19:12:19</td>\n",
       "      <td>ios</td>\n",
       "      <td>6.4.1</td>\n",
       "    </tr>\n",
       "    <tr>\n",
       "      <th>2</th>\n",
       "      <td>2</td>\n",
       "      <td>75dcab40-4a22-41f6-a954-bc859fb6721f</td>\n",
       "      <td>APP_CLOSED</td>\n",
       "      <td>2016-09-18 11:08:18</td>\n",
       "      <td>android</td>\n",
       "      <td>2.5.1</td>\n",
       "    </tr>\n",
       "    <tr>\n",
       "      <th>3</th>\n",
       "      <td>3</td>\n",
       "      <td>8f611b4f-40ad-4a51-b965-1312e72aa23d</td>\n",
       "      <td>APP_OPEN</td>\n",
       "      <td>2016-10-25 16:39:30</td>\n",
       "      <td>ios</td>\n",
       "      <td>6.6.0</td>\n",
       "    </tr>\n",
       "    <tr>\n",
       "      <th>4</th>\n",
       "      <td>4</td>\n",
       "      <td>acbd5423-6a84-4a41-b520-faf7e078b14c</td>\n",
       "      <td>APP_CLOSED</td>\n",
       "      <td>2016-09-18 11:24:28</td>\n",
       "      <td>ios</td>\n",
       "      <td>6.4.1</td>\n",
       "    </tr>\n",
       "  </tbody>\n",
       "</table>\n",
       "</div>"
      ],
      "text/plain": [
       "   Unnamed: 0                               user_id  event_name  \\\n",
       "0           0  5be921e9-e2bd-47ac-b1c8-94f7289324a2  APP_CLOSED   \n",
       "1           1  24f3d080-06b3-4053-b1c0-c1f4e40455d5  APP_CLOSED   \n",
       "2           2  75dcab40-4a22-41f6-a954-bc859fb6721f  APP_CLOSED   \n",
       "3           3  8f611b4f-40ad-4a51-b965-1312e72aa23d    APP_OPEN   \n",
       "4           4  acbd5423-6a84-4a41-b520-faf7e078b14c  APP_CLOSED   \n",
       "\n",
       "            event_time  os_name app_version  \n",
       "0  2016-09-18 03:06:25  android       2.5.1  \n",
       "1  2016-09-05 19:12:19      ios       6.4.1  \n",
       "2  2016-09-18 11:08:18  android       2.5.1  \n",
       "3  2016-10-25 16:39:30      ios       6.6.0  \n",
       "4  2016-09-18 11:24:28      ios       6.4.1  "
      ]
     },
     "execution_count": 306,
     "metadata": {},
     "output_type": "execute_result"
    }
   ],
   "source": [
    "data.head() # brief look at the data"
   ]
  },
  {
   "cell_type": "code",
   "execution_count": 307,
   "metadata": {
    "collapsed": false
   },
   "outputs": [
    {
     "data": {
      "text/plain": [
       "(357404, 6)"
      ]
     },
     "execution_count": 307,
     "metadata": {},
     "output_type": "execute_result"
    }
   ],
   "source": [
    "data.shape "
   ]
  },
  {
   "cell_type": "code",
   "execution_count": 308,
   "metadata": {
    "collapsed": false
   },
   "outputs": [],
   "source": [
    "data.drop(['Unnamed: 0'],axis=1,inplace=True) # drop useless columns"
   ]
  },
  {
   "cell_type": "code",
   "execution_count": 309,
   "metadata": {
    "collapsed": true
   },
   "outputs": [],
   "source": [
    "### feature engineering for event_time(split the year, month, and day)\n",
    "data['year'] = data.event_time.apply(lambda x: int(x[:4]))\n",
    "data['month'] = data.event_time.apply(lambda x: int(x[5:7]))\n",
    "data['day'] = data.event_time.apply(lambda x: int(x[8:10]))"
   ]
  },
  {
   "cell_type": "code",
   "execution_count": 310,
   "metadata": {
    "collapsed": false
   },
   "outputs": [
    {
     "data": {
      "text/html": [
       "<div>\n",
       "<table border=\"1\" class=\"dataframe\">\n",
       "  <thead>\n",
       "    <tr style=\"text-align: right;\">\n",
       "      <th></th>\n",
       "      <th>user_id</th>\n",
       "      <th>event_name</th>\n",
       "      <th>event_time</th>\n",
       "      <th>os_name</th>\n",
       "      <th>app_version</th>\n",
       "      <th>year</th>\n",
       "      <th>month</th>\n",
       "      <th>day</th>\n",
       "    </tr>\n",
       "  </thead>\n",
       "  <tbody>\n",
       "    <tr>\n",
       "      <th>0</th>\n",
       "      <td>5be921e9-e2bd-47ac-b1c8-94f7289324a2</td>\n",
       "      <td>APP_CLOSED</td>\n",
       "      <td>2016-09-18 03:06:25</td>\n",
       "      <td>android</td>\n",
       "      <td>2.5.1</td>\n",
       "      <td>2016</td>\n",
       "      <td>9</td>\n",
       "      <td>18</td>\n",
       "    </tr>\n",
       "    <tr>\n",
       "      <th>1</th>\n",
       "      <td>24f3d080-06b3-4053-b1c0-c1f4e40455d5</td>\n",
       "      <td>APP_CLOSED</td>\n",
       "      <td>2016-09-05 19:12:19</td>\n",
       "      <td>ios</td>\n",
       "      <td>6.4.1</td>\n",
       "      <td>2016</td>\n",
       "      <td>9</td>\n",
       "      <td>5</td>\n",
       "    </tr>\n",
       "    <tr>\n",
       "      <th>2</th>\n",
       "      <td>75dcab40-4a22-41f6-a954-bc859fb6721f</td>\n",
       "      <td>APP_CLOSED</td>\n",
       "      <td>2016-09-18 11:08:18</td>\n",
       "      <td>android</td>\n",
       "      <td>2.5.1</td>\n",
       "      <td>2016</td>\n",
       "      <td>9</td>\n",
       "      <td>18</td>\n",
       "    </tr>\n",
       "    <tr>\n",
       "      <th>3</th>\n",
       "      <td>8f611b4f-40ad-4a51-b965-1312e72aa23d</td>\n",
       "      <td>APP_OPEN</td>\n",
       "      <td>2016-10-25 16:39:30</td>\n",
       "      <td>ios</td>\n",
       "      <td>6.6.0</td>\n",
       "      <td>2016</td>\n",
       "      <td>10</td>\n",
       "      <td>25</td>\n",
       "    </tr>\n",
       "    <tr>\n",
       "      <th>4</th>\n",
       "      <td>acbd5423-6a84-4a41-b520-faf7e078b14c</td>\n",
       "      <td>APP_CLOSED</td>\n",
       "      <td>2016-09-18 11:24:28</td>\n",
       "      <td>ios</td>\n",
       "      <td>6.4.1</td>\n",
       "      <td>2016</td>\n",
       "      <td>9</td>\n",
       "      <td>18</td>\n",
       "    </tr>\n",
       "  </tbody>\n",
       "</table>\n",
       "</div>"
      ],
      "text/plain": [
       "                                user_id  event_name           event_time  \\\n",
       "0  5be921e9-e2bd-47ac-b1c8-94f7289324a2  APP_CLOSED  2016-09-18 03:06:25   \n",
       "1  24f3d080-06b3-4053-b1c0-c1f4e40455d5  APP_CLOSED  2016-09-05 19:12:19   \n",
       "2  75dcab40-4a22-41f6-a954-bc859fb6721f  APP_CLOSED  2016-09-18 11:08:18   \n",
       "3  8f611b4f-40ad-4a51-b965-1312e72aa23d    APP_OPEN  2016-10-25 16:39:30   \n",
       "4  acbd5423-6a84-4a41-b520-faf7e078b14c  APP_CLOSED  2016-09-18 11:24:28   \n",
       "\n",
       "   os_name app_version  year  month  day  \n",
       "0  android       2.5.1  2016      9   18  \n",
       "1      ios       6.4.1  2016      9    5  \n",
       "2  android       2.5.1  2016      9   18  \n",
       "3      ios       6.6.0  2016     10   25  \n",
       "4      ios       6.4.1  2016      9   18  "
      ]
     },
     "execution_count": 310,
     "metadata": {},
     "output_type": "execute_result"
    }
   ],
   "source": [
    "data.head()"
   ]
  },
  {
   "cell_type": "code",
   "execution_count": 311,
   "metadata": {
    "collapsed": false
   },
   "outputs": [
    {
     "data": {
      "text/plain": [
       "2016    357404\n",
       "Name: year, dtype: int64"
      ]
     },
     "execution_count": 311,
     "metadata": {},
     "output_type": "execute_result"
    }
   ],
   "source": [
    "data.year.value_counts(dropna=False) ### all observations from 2016, so there is no use in this column and we can delete this column"
   ]
  },
  {
   "cell_type": "code",
   "execution_count": 312,
   "metadata": {
    "collapsed": true
   },
   "outputs": [],
   "source": [
    "data.drop(['year'],axis=1,inplace=True)"
   ]
  },
  {
   "cell_type": "code",
   "execution_count": 313,
   "metadata": {
    "collapsed": false
   },
   "outputs": [
    {
     "data": {
      "text/plain": [
       "['user_id', 'event_name', 'os_name', 'app_version', 'month', 'day']"
      ]
     },
     "execution_count": 313,
     "metadata": {},
     "output_type": "execute_result"
    }
   ],
   "source": [
    "columns = data.columns.values.tolist()\n",
    "columns[:2] + columns[3:] "
   ]
  },
  {
   "cell_type": "code",
   "execution_count": 314,
   "metadata": {
    "collapsed": false
   },
   "outputs": [
    {
     "name": "stdout",
     "output_type": "stream",
     "text": [
      "user_id\n",
      "e1db6ec7-58ca-4e93-bf1c-e2e020339eea    1402\n",
      "8f19f962-34b2-42ff-ba97-6e2cc58f945b    1080\n",
      "29622242-3890-4f8a-9ecd-a28532e089ba    1049\n",
      "95cc5b68-0d2f-45a1-bb7a-784be48abe67     824\n",
      "8f611b4f-40ad-4a51-b965-1312e72aa23d     804\n",
      "c73f58a5-ed20-4a17-a9a7-6d86ae72a51c     787\n",
      "edabd472-110d-4bc3-b06e-d85283b365a8     783\n",
      "f4c3d530-ed6a-4fba-a734-47fbf3036d4d     726\n",
      "df730f42-3d31-41a3-860f-e477d7ffbdbd     717\n",
      "bc2ef22e-ee2f-44ef-9d52-cca008eb3dc4     703\n",
      "2642d7cf-53fc-466a-98a2-ddfbd53ca60f     700\n",
      "ab6754c9-d320-418f-9f26-feefdca587a3     635\n",
      "d9096058-d5ba-457c-b1e3-cc368203094c     628\n",
      "6b6310dc-1ecd-4d0a-a331-933636f7d019     627\n",
      "1cab9ac1-5822-4371-86af-5c86db8fd6c8     620\n",
      "8b1a3a2b-e577-4e5e-814b-e34303790faa     610\n",
      "cd304656-44b0-4352-aae8-2964a25f5051     550\n",
      "f04cc717-6b24-4b3d-9acf-7ea5ff3d59cc     549\n",
      "66d029e6-25d5-47c8-aebe-188729405ae9     515\n",
      "1dd0d888-3143-4d94-ac4a-97d8c97bb941     514\n",
      "2869f55f-c6c6-41b9-9f2f-e228a4fed3ab     503\n",
      "a25df70c-616c-468d-9c2f-645d4a36c291     498\n",
      "f9091863-13e1-41d2-ad7c-ce42fdb9bc75     489\n",
      "49d9034e-9f6b-4423-aafb-dd83a79cca30     485\n",
      "1c80aaec-80f1-4969-bce2-994f4362c6d2     456\n",
      "1eb34c3e-f839-41fb-bdb2-2f6708d2bb35     455\n",
      "50c0b881-ab59-4d79-9285-fe9b08ec9864     450\n",
      "8d29415c-de6f-4402-8cae-7f957b39f46e     444\n",
      "b07bfe7f-a3a9-4317-983a-172632912098     435\n",
      "2d9ca252-804a-458b-97a0-a7f6b01f0038     430\n",
      "                                        ... \n",
      "67fd791c-6fea-4be7-b5db-eec08f4897d5       1\n",
      "7eaaacdb-4343-4e21-ab2f-581e4ddbf1fb       1\n",
      "79582b77-947f-4985-96b7-73b5afb409ca       1\n",
      "70bd9318-9269-43ee-93aa-6ead9bbd254d       1\n",
      "31a446db-5804-4efe-a1ff-d827e1089dd5       1\n",
      "fa2b2414-13da-4176-b1dd-55244dbe9f55       1\n",
      "5dcca162-9e84-44e8-9f72-288f778bd4cc       1\n",
      "f62bb18c-11bc-4173-ad2c-a9d23cd1b460       1\n",
      "b21905bc-7000-4aea-9544-723ba644f255       1\n",
      "aa830e0d-3345-4482-a51e-66325e91f7c9       1\n",
      "259fd50b-f2b3-40a0-b3f2-881ef87577da       1\n",
      "0f3a2546-de5b-474e-bfe3-36060e8ddb21       1\n",
      "a12916ea-c92b-4037-986e-5c6556a226b6       1\n",
      "d8dbb5a4-484a-44aa-ba48-e530c411f57f       1\n",
      "245a6f69-ae10-4df3-9152-90d3a90a420d       1\n",
      "371103b9-105f-42a0-8e1f-d547992086ab       1\n",
      "0b8e3a57-6980-4eec-960d-5717324b5788       1\n",
      "809af52f-1479-4d4d-b8ae-3237b5d04b36       1\n",
      "24d69570-6cf9-4ee6-bef3-fa97d0d5b251       1\n",
      "9380af5b-1721-46ec-962e-0fd520035151       1\n",
      "d6323abb-7d82-4bf0-9e79-4abc6c1c927f       1\n",
      "9ee22279-5e7d-49b9-8929-08df97512983       1\n",
      "013e321d-80e2-467a-afc4-123789e54488       1\n",
      "54ab36a2-b502-403f-84da-3026c0294c07       1\n",
      "9ca17539-4ac6-4e3d-a4cd-6a320f189349       1\n",
      "2c1ff09a-2afb-40a4-91cd-31209b46d8cc       1\n",
      "de3f6d29-366a-4b4b-a808-c1c2183ef6e0       1\n",
      "caa91785-5ceb-48e2-ac85-16d4e0ea519b       1\n",
      "83d80669-dcd9-4d77-aed4-9bd921d07907       1\n",
      "4d9528ae-a903-477b-b992-421c89620c25       1\n",
      "Name: user_id, dtype: int64\n",
      "\n",
      " ###########\n",
      "event_name\n",
      "APP_CLOSED       154543\n",
      "APP_OPEN         142327\n",
      "SHOT_RECORDED     60534\n",
      "Name: event_name, dtype: int64\n",
      "\n",
      " ###########\n",
      "os_name\n",
      "android    214841\n",
      "ios        142563\n",
      "Name: os_name, dtype: int64\n",
      "\n",
      " ###########\n",
      "app_version\n",
      "2.5.1    150444\n",
      "6.4.1    124887\n",
      "2.6       31868\n",
      "2.6.1     22017\n",
      "6.5.1      8743\n",
      "2.7.2      8207\n",
      "6.6.0      6719\n",
      "6.5.0      2022\n",
      "2.8.1      1328\n",
      "2.7         337\n",
      "2.4.1       174\n",
      "6.7.0       120\n",
      "2.2.2       104\n",
      "2.3.1        94\n",
      "2.4.2        75\n",
      "2.7.1        71\n",
      "2.5          69\n",
      "2.4          53\n",
      "6.3.1        35\n",
      "6.2.2        22\n",
      "6.4.0        15\n",
      "Name: app_version, dtype: int64\n",
      "\n",
      " ###########\n",
      "month\n",
      "9     319754\n",
      "10     37650\n",
      "Name: month, dtype: int64\n",
      "\n",
      " ###########\n",
      "day\n",
      "17    97887\n",
      "18    48995\n",
      "19    25610\n",
      "20    16600\n",
      "21    12702\n",
      "22    11373\n",
      "24    10671\n",
      "23     9593\n",
      "25     9376\n",
      "28     8063\n",
      "30     7529\n",
      "3      6474\n",
      "1      6346\n",
      "26     6298\n",
      "29     6259\n",
      "2      5984\n",
      "4      5612\n",
      "27     5544\n",
      "10     5491\n",
      "9      5336\n",
      "12     5315\n",
      "11     5226\n",
      "13     5031\n",
      "16     5023\n",
      "6      4721\n",
      "15     4263\n",
      "7      4246\n",
      "8      4042\n",
      "5      3867\n",
      "14     3463\n",
      "31      464\n",
      "Name: day, dtype: int64\n",
      "\n",
      " ###########\n"
     ]
    }
   ],
   "source": [
    "for col in columns[:2] + columns[3:]: # brute-force way to have value_counts for all columns except event_time\n",
    "    print col\n",
    "    print data[col].value_counts(dropna=False)\n",
    "    print '\\n ###########'\n",
    "# the result shows that there are no missing values"
   ]
  },
  {
   "cell_type": "code",
   "execution_count": 315,
   "metadata": {
    "collapsed": false
   },
   "outputs": [],
   "source": [
    "data['month_day'] = data.event_time.apply(lambda x: int(x[5:7]+x[8:10])) # combine month and day"
   ]
  },
  {
   "cell_type": "code",
   "execution_count": 316,
   "metadata": {
    "collapsed": true
   },
   "outputs": [],
   "source": [
    "# use integer to represent month_day, and keep the distance between two dates meaningful, for example: 10/01 will be represented by 931, which has one day distance with 09/30 (930) \n",
    "def month_day_index(x):\n",
    "    if x > 930:\n",
    "        x = x-70\n",
    "    return x\n",
    "data['md_index'] = data.month_day.apply(month_day_index)"
   ]
  },
  {
   "cell_type": "code",
   "execution_count": 317,
   "metadata": {
    "collapsed": false
   },
   "outputs": [
    {
     "data": {
      "text/html": [
       "<div>\n",
       "<table border=\"1\" class=\"dataframe\">\n",
       "  <thead>\n",
       "    <tr style=\"text-align: right;\">\n",
       "      <th></th>\n",
       "      <th>user_id</th>\n",
       "      <th>event_name</th>\n",
       "      <th>event_time</th>\n",
       "      <th>os_name</th>\n",
       "      <th>app_version</th>\n",
       "      <th>month</th>\n",
       "      <th>day</th>\n",
       "      <th>month_day</th>\n",
       "      <th>md_index</th>\n",
       "    </tr>\n",
       "  </thead>\n",
       "  <tbody>\n",
       "    <tr>\n",
       "      <th>0</th>\n",
       "      <td>5be921e9-e2bd-47ac-b1c8-94f7289324a2</td>\n",
       "      <td>APP_CLOSED</td>\n",
       "      <td>2016-09-18 03:06:25</td>\n",
       "      <td>android</td>\n",
       "      <td>2.5.1</td>\n",
       "      <td>9</td>\n",
       "      <td>18</td>\n",
       "      <td>918</td>\n",
       "      <td>918</td>\n",
       "    </tr>\n",
       "    <tr>\n",
       "      <th>1</th>\n",
       "      <td>24f3d080-06b3-4053-b1c0-c1f4e40455d5</td>\n",
       "      <td>APP_CLOSED</td>\n",
       "      <td>2016-09-05 19:12:19</td>\n",
       "      <td>ios</td>\n",
       "      <td>6.4.1</td>\n",
       "      <td>9</td>\n",
       "      <td>5</td>\n",
       "      <td>905</td>\n",
       "      <td>905</td>\n",
       "    </tr>\n",
       "    <tr>\n",
       "      <th>2</th>\n",
       "      <td>75dcab40-4a22-41f6-a954-bc859fb6721f</td>\n",
       "      <td>APP_CLOSED</td>\n",
       "      <td>2016-09-18 11:08:18</td>\n",
       "      <td>android</td>\n",
       "      <td>2.5.1</td>\n",
       "      <td>9</td>\n",
       "      <td>18</td>\n",
       "      <td>918</td>\n",
       "      <td>918</td>\n",
       "    </tr>\n",
       "    <tr>\n",
       "      <th>3</th>\n",
       "      <td>8f611b4f-40ad-4a51-b965-1312e72aa23d</td>\n",
       "      <td>APP_OPEN</td>\n",
       "      <td>2016-10-25 16:39:30</td>\n",
       "      <td>ios</td>\n",
       "      <td>6.6.0</td>\n",
       "      <td>10</td>\n",
       "      <td>25</td>\n",
       "      <td>1025</td>\n",
       "      <td>955</td>\n",
       "    </tr>\n",
       "    <tr>\n",
       "      <th>4</th>\n",
       "      <td>acbd5423-6a84-4a41-b520-faf7e078b14c</td>\n",
       "      <td>APP_CLOSED</td>\n",
       "      <td>2016-09-18 11:24:28</td>\n",
       "      <td>ios</td>\n",
       "      <td>6.4.1</td>\n",
       "      <td>9</td>\n",
       "      <td>18</td>\n",
       "      <td>918</td>\n",
       "      <td>918</td>\n",
       "    </tr>\n",
       "  </tbody>\n",
       "</table>\n",
       "</div>"
      ],
      "text/plain": [
       "                                user_id  event_name           event_time  \\\n",
       "0  5be921e9-e2bd-47ac-b1c8-94f7289324a2  APP_CLOSED  2016-09-18 03:06:25   \n",
       "1  24f3d080-06b3-4053-b1c0-c1f4e40455d5  APP_CLOSED  2016-09-05 19:12:19   \n",
       "2  75dcab40-4a22-41f6-a954-bc859fb6721f  APP_CLOSED  2016-09-18 11:08:18   \n",
       "3  8f611b4f-40ad-4a51-b965-1312e72aa23d    APP_OPEN  2016-10-25 16:39:30   \n",
       "4  acbd5423-6a84-4a41-b520-faf7e078b14c  APP_CLOSED  2016-09-18 11:24:28   \n",
       "\n",
       "   os_name app_version  month  day  month_day  md_index  \n",
       "0  android       2.5.1      9   18        918       918  \n",
       "1      ios       6.4.1      9    5        905       905  \n",
       "2  android       2.5.1      9   18        918       918  \n",
       "3      ios       6.6.0     10   25       1025       955  \n",
       "4      ios       6.4.1      9   18        918       918  "
      ]
     },
     "execution_count": 317,
     "metadata": {},
     "output_type": "execute_result"
    }
   ],
   "source": [
    "data.head()"
   ]
  },
  {
   "cell_type": "code",
   "execution_count": 318,
   "metadata": {
    "collapsed": false
   },
   "outputs": [],
   "source": [
    "data.drop(['event_time','month','day'],axis=1,inplace=True) # drop month, day, event_time columns"
   ]
  },
  {
   "cell_type": "code",
   "execution_count": 319,
   "metadata": {
    "collapsed": false
   },
   "outputs": [],
   "source": [
    "class seven_day_retention(object):\n",
    "    \"\"\"\n",
    "        class to calculate 7-day retention rate\n",
    "        start_day: the starting date, between 09/01 and 10/24(because if start_day is 10/25, we don't have record in 11/01 which is 7 days later)\n",
    "        end_day: the ending date\n",
    "        os_name: ios, andriod or both\n",
    "        app_version: different app versions\n",
    "    \n",
    "    \"\"\"\n",
    "    def __init__(self,start_day,end_day,os_name=None,app_version=None): \n",
    "        if start_day is None:\n",
    "            self.start_day = '901' # default start_day is 09/01\n",
    "        else:\n",
    "            self.start_day = self.date_transform(start_day)\n",
    "            \n",
    "        if end_day is None:\n",
    "            self.end_day = '954' # default end_day is 10/24\n",
    "        else:\n",
    "            self.end_day = self.date_transform(end_day)\n",
    "        \n",
    "        self.os_name = os_name \n",
    "        self.app_version = app_version\n",
    "            \n",
    "            \n",
    "    def date_transform(self,date): # transform input date string to integer and maintain eqaul distance between two consecutive dates\n",
    "        if int(date) > 930:\n",
    "            date = str(int(date)-70)\n",
    "        else:\n",
    "            date = str(int(date))\n",
    "        return date\n",
    "            \n",
    "    \n",
    "    def input_data(self, df=df_open): # convert the original df based on object input\n",
    "        if self.os_name is not None and self.app_version is not None:\n",
    "            df_subset = df[df.os_name==self.os_name][df.app_version==self.app_version]\n",
    "        elif self.os_name is not None:\n",
    "            df_subset = df[df.os_name==self.os_name]\n",
    "        elif self.app_version is not None:\n",
    "            df_subset = df[df.app_version==self.app_version]\n",
    "        else:\n",
    "            df_subset = df\n",
    "        return df_subset\n",
    "            \n",
    "            \n",
    "            \n",
    "            \n",
    "    def retention_rate(self,df):\n",
    "        df_subset = self.input_data(df)\n",
    "        df1 = df_subset.groupby(['user_id']) # groupby user_id\n",
    "        reopen_count = 0 # count for reopen users\n",
    "        user_count = 0 # count for total users\n",
    "        for g in df1: # every group is based on a user_id\n",
    "            df_group = pd.DataFrame(list(g)[1]) \n",
    "            min_d = df_group.md_index.min() # first date for the user to open the app\n",
    "            if min_d in np.arange(int(self.start_day),int(self.end_day)):  # if this date is within our interest period\n",
    "                user_count += 1\n",
    "                if not df_group[df_group.md_index == min_d+7].empty: # if user also open the app after 7 days\n",
    "                    reopen_count += 1\n",
    "        return reopen_count/user_count\n",
    "    "
   ]
  },
  {
   "cell_type": "code",
   "execution_count": 320,
   "metadata": {
    "collapsed": false
   },
   "outputs": [
    {
     "name": "stdout",
     "output_type": "stream",
     "text": [
      "0.049349332432\n"
     ]
    }
   ],
   "source": [
    "obj = seven_day_retention(start_day='0901',end_day='0930')\n",
    "rate1 = obj.retention_rate(df_open)\n",
    "print rate1"
   ]
  },
  {
   "cell_type": "code",
   "execution_count": 330,
   "metadata": {
    "collapsed": false
   },
   "outputs": [
    {
     "name": "stdout",
     "output_type": "stream",
     "text": [
      "the overall Day-7 retention over the month of September is: 4.93%\n"
     ]
    }
   ],
   "source": [
    "print \"the overall Day-7 retention over the month of September is: \" + \"{:.2f}%\".format(rate1*100)"
   ]
  },
  {
   "cell_type": "code",
   "execution_count": 321,
   "metadata": {
    "collapsed": false
   },
   "outputs": [
    {
     "name": "stdout",
     "output_type": "stream",
     "text": [
      "0.0555555555556\n"
     ]
    }
   ],
   "source": [
    "obj2 = seven_day_retention(start_day='0908',end_day='0910',os_name='android')\n",
    "rate2 = obj2.retention_rate(df_open)\n",
    "print rate2"
   ]
  },
  {
   "cell_type": "code",
   "execution_count": 331,
   "metadata": {
    "collapsed": false
   },
   "outputs": [
    {
     "name": "stdout",
     "output_type": "stream",
     "text": [
      "the Day-7 retention from September 8 through September 10 for Android users is: 5.56%\n"
     ]
    }
   ],
   "source": [
    "print \"the Day-7 retention from September 8 through September 10 for Android users is: \" + \"{:.2f}%\".format(rate2*100)"
   ]
  },
  {
   "cell_type": "code",
   "execution_count": 322,
   "metadata": {
    "collapsed": false
   },
   "outputs": [
    {
     "name": "stdout",
     "output_type": "stream",
     "text": [
      "0.0\n"
     ]
    },
    {
     "name": "stderr",
     "output_type": "stream",
     "text": [
      "/Users/suruisun/anaconda/lib/python2.7/site-packages/ipykernel/__main__.py:27: UserWarning: Boolean Series key will be reindexed to match DataFrame index.\n"
     ]
    }
   ],
   "source": [
    "obj3 = seven_day_retention(start_day='0901',end_day='0930',os_name='ios',app_version='6.5.0')\n",
    "rate3 = obj3.retention_rate(df_open)\n",
    "print rate3"
   ]
  },
  {
   "cell_type": "code",
   "execution_count": 333,
   "metadata": {
    "collapsed": false
   },
   "outputs": [
    {
     "name": "stdout",
     "output_type": "stream",
     "text": [
      "the Day-7 retention over the month of September for iOS users using version 6.5 is: 0.00%\n"
     ]
    }
   ],
   "source": [
    "print \"the Day-7 retention over the month of September for iOS users using version 6.5 is: \" + \"{:.2f}%\".format(rate3*100)"
   ]
  },
  {
   "cell_type": "code",
   "execution_count": null,
   "metadata": {
    "collapsed": true
   },
   "outputs": [],
   "source": []
  }
 ],
 "metadata": {
  "kernelspec": {
   "display_name": "Python 2",
   "language": "python",
   "name": "python2"
  },
  "language_info": {
   "codemirror_mode": {
    "name": "ipython",
    "version": 2
   },
   "file_extension": ".py",
   "mimetype": "text/x-python",
   "name": "python",
   "nbconvert_exporter": "python",
   "pygments_lexer": "ipython2",
   "version": "2.7.12"
  }
 },
 "nbformat": 4,
 "nbformat_minor": 0
}
