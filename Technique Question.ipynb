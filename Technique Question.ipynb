{
 "cells": [
  {
   "cell_type": "markdown",
   "metadata": {},
   "source": [
    "# Q1: How to connect Python with SQL Database?"
   ]
  },
  {
   "cell_type": "markdown",
   "metadata": {},
   "source": [
    "Python comes with SQLite3, which provides a lightweight disk-based database that doesn't require a seperate server process. It's useful to prototype with SQLite and then port the code to a larger database system, like MySQL."
   ]
  },
  {
   "cell_type": "code",
   "execution_count": 5,
   "metadata": {
    "collapsed": true
   },
   "outputs": [],
   "source": [
    "import sqlite3\n",
    "import pandas as pd"
   ]
  },
  {
   "cell_type": "code",
   "execution_count": 9,
   "metadata": {
    "collapsed": true
   },
   "outputs": [],
   "source": [
    "con = sqlite3.connect('/Users/suruisun/Downloads/sakila.db') # sakila.db is a demonstrated database with 16 tables"
   ]
  },
  {
   "cell_type": "code",
   "execution_count": 10,
   "metadata": {
    "collapsed": false
   },
   "outputs": [
    {
     "data": {
      "text/html": [
       "<div>\n",
       "<table border=\"1\" class=\"dataframe\">\n",
       "  <thead>\n",
       "    <tr style=\"text-align: right;\">\n",
       "      <th></th>\n",
       "      <th>customer_id</th>\n",
       "      <th>store_id</th>\n",
       "      <th>first_name</th>\n",
       "      <th>last_name</th>\n",
       "      <th>email</th>\n",
       "      <th>address_id</th>\n",
       "      <th>active</th>\n",
       "      <th>create_date</th>\n",
       "      <th>last_update</th>\n",
       "    </tr>\n",
       "  </thead>\n",
       "  <tbody>\n",
       "    <tr>\n",
       "      <th>0</th>\n",
       "      <td>1</td>\n",
       "      <td>1</td>\n",
       "      <td>MARY</td>\n",
       "      <td>SMITH</td>\n",
       "      <td>MARY.SMITH@sakilacustomer.org</td>\n",
       "      <td>5</td>\n",
       "      <td>1</td>\n",
       "      <td>2006-02-14 22:04:36.000</td>\n",
       "      <td>2011-09-14 18:10:28</td>\n",
       "    </tr>\n",
       "    <tr>\n",
       "      <th>1</th>\n",
       "      <td>2</td>\n",
       "      <td>1</td>\n",
       "      <td>PATRICIA</td>\n",
       "      <td>JOHNSON</td>\n",
       "      <td>PATRICIA.JOHNSON@sakilacustomer.org</td>\n",
       "      <td>6</td>\n",
       "      <td>1</td>\n",
       "      <td>2006-02-14 22:04:36.000</td>\n",
       "      <td>2011-09-14 18:10:28</td>\n",
       "    </tr>\n",
       "    <tr>\n",
       "      <th>2</th>\n",
       "      <td>3</td>\n",
       "      <td>1</td>\n",
       "      <td>LINDA</td>\n",
       "      <td>WILLIAMS</td>\n",
       "      <td>LINDA.WILLIAMS@sakilacustomer.org</td>\n",
       "      <td>7</td>\n",
       "      <td>1</td>\n",
       "      <td>2006-02-14 22:04:36.000</td>\n",
       "      <td>2011-09-14 18:10:28</td>\n",
       "    </tr>\n",
       "    <tr>\n",
       "      <th>3</th>\n",
       "      <td>4</td>\n",
       "      <td>2</td>\n",
       "      <td>BARBARA</td>\n",
       "      <td>JONES</td>\n",
       "      <td>BARBARA.JONES@sakilacustomer.org</td>\n",
       "      <td>8</td>\n",
       "      <td>1</td>\n",
       "      <td>2006-02-14 22:04:36.000</td>\n",
       "      <td>2011-09-14 18:10:28</td>\n",
       "    </tr>\n",
       "    <tr>\n",
       "      <th>4</th>\n",
       "      <td>5</td>\n",
       "      <td>1</td>\n",
       "      <td>ELIZABETH</td>\n",
       "      <td>BROWN</td>\n",
       "      <td>ELIZABETH.BROWN@sakilacustomer.org</td>\n",
       "      <td>9</td>\n",
       "      <td>1</td>\n",
       "      <td>2006-02-14 22:04:36.000</td>\n",
       "      <td>2011-09-14 18:10:28</td>\n",
       "    </tr>\n",
       "  </tbody>\n",
       "</table>\n",
       "</div>"
      ],
      "text/plain": [
       "   customer_id  store_id first_name last_name  \\\n",
       "0            1         1       MARY     SMITH   \n",
       "1            2         1   PATRICIA   JOHNSON   \n",
       "2            3         1      LINDA  WILLIAMS   \n",
       "3            4         2    BARBARA     JONES   \n",
       "4            5         1  ELIZABETH     BROWN   \n",
       "\n",
       "                                 email  address_id active  \\\n",
       "0        MARY.SMITH@sakilacustomer.org           5      1   \n",
       "1  PATRICIA.JOHNSON@sakilacustomer.org           6      1   \n",
       "2    LINDA.WILLIAMS@sakilacustomer.org           7      1   \n",
       "3     BARBARA.JONES@sakilacustomer.org           8      1   \n",
       "4   ELIZABETH.BROWN@sakilacustomer.org           9      1   \n",
       "\n",
       "               create_date          last_update  \n",
       "0  2006-02-14 22:04:36.000  2011-09-14 18:10:28  \n",
       "1  2006-02-14 22:04:36.000  2011-09-14 18:10:28  \n",
       "2  2006-02-14 22:04:36.000  2011-09-14 18:10:28  \n",
       "3  2006-02-14 22:04:36.000  2011-09-14 18:10:28  \n",
       "4  2006-02-14 22:04:36.000  2011-09-14 18:10:28  "
      ]
     },
     "execution_count": 10,
     "metadata": {},
     "output_type": "execute_result"
    }
   ],
   "source": [
    "sql_query = \"\"\"SELECT * FROM customer\"\"\"\n",
    "\n",
    "df = pd.read_sql(sql_query,con)\n",
    "\n",
    "df.head()"
   ]
  },
  {
   "cell_type": "code",
   "execution_count": 11,
   "metadata": {
    "collapsed": true
   },
   "outputs": [],
   "source": [
    "def sql_to_df(sql_query):\n",
    "    df = pd.read_sql(sql_query,con)\n",
    "    return df"
   ]
  },
  {
   "cell_type": "code",
   "execution_count": 12,
   "metadata": {
    "collapsed": false
   },
   "outputs": [
    {
     "data": {
      "text/html": [
       "<div>\n",
       "<table border=\"1\" class=\"dataframe\">\n",
       "  <thead>\n",
       "    <tr style=\"text-align: right;\">\n",
       "      <th></th>\n",
       "      <th>first_name</th>\n",
       "      <th>last_name</th>\n",
       "    </tr>\n",
       "  </thead>\n",
       "  <tbody>\n",
       "    <tr>\n",
       "      <th>0</th>\n",
       "      <td>MARY</td>\n",
       "      <td>SMITH</td>\n",
       "    </tr>\n",
       "    <tr>\n",
       "      <th>1</th>\n",
       "      <td>PATRICIA</td>\n",
       "      <td>JOHNSON</td>\n",
       "    </tr>\n",
       "    <tr>\n",
       "      <th>2</th>\n",
       "      <td>LINDA</td>\n",
       "      <td>WILLIAMS</td>\n",
       "    </tr>\n",
       "    <tr>\n",
       "      <th>3</th>\n",
       "      <td>BARBARA</td>\n",
       "      <td>JONES</td>\n",
       "    </tr>\n",
       "    <tr>\n",
       "      <th>4</th>\n",
       "      <td>ELIZABETH</td>\n",
       "      <td>BROWN</td>\n",
       "    </tr>\n",
       "  </tbody>\n",
       "</table>\n",
       "</div>"
      ],
      "text/plain": [
       "  first_name last_name\n",
       "0       MARY     SMITH\n",
       "1   PATRICIA   JOHNSON\n",
       "2      LINDA  WILLIAMS\n",
       "3    BARBARA     JONES\n",
       "4  ELIZABETH     BROWN"
      ]
     },
     "execution_count": 12,
     "metadata": {},
     "output_type": "execute_result"
    }
   ],
   "source": [
    "query = \"\"\" SELECT first_name, last_name FROM customer\"\"\"\n",
    "sql_to_df(query).head()"
   ]
  },
  {
   "cell_type": "code",
   "execution_count": 13,
   "metadata": {
    "collapsed": false
   },
   "outputs": [
    {
     "data": {
      "text/html": [
       "<div>\n",
       "<table border=\"1\" class=\"dataframe\">\n",
       "  <thead>\n",
       "    <tr style=\"text-align: right;\">\n",
       "      <th></th>\n",
       "      <th>customer_id</th>\n",
       "      <th>store_id</th>\n",
       "      <th>first_name</th>\n",
       "      <th>last_name</th>\n",
       "      <th>email</th>\n",
       "      <th>address_id</th>\n",
       "      <th>active</th>\n",
       "      <th>create_date</th>\n",
       "      <th>last_update</th>\n",
       "    </tr>\n",
       "  </thead>\n",
       "  <tbody>\n",
       "    <tr>\n",
       "      <th>0</th>\n",
       "      <td>28</td>\n",
       "      <td>1</td>\n",
       "      <td>CYNTHIA</td>\n",
       "      <td>YOUNG</td>\n",
       "      <td>CYNTHIA.YOUNG@sakilacustomer.org</td>\n",
       "      <td>32</td>\n",
       "      <td>1</td>\n",
       "      <td>2006-02-14 22:04:36.000</td>\n",
       "      <td>2011-09-14 18:10:29</td>\n",
       "    </tr>\n",
       "    <tr>\n",
       "      <th>1</th>\n",
       "      <td>413</td>\n",
       "      <td>2</td>\n",
       "      <td>MARVIN</td>\n",
       "      <td>YEE</td>\n",
       "      <td>MARVIN.YEE@sakilacustomer.org</td>\n",
       "      <td>418</td>\n",
       "      <td>1</td>\n",
       "      <td>2006-02-14 22:04:37.000</td>\n",
       "      <td>2011-09-14 18:10:40</td>\n",
       "    </tr>\n",
       "    <tr>\n",
       "      <th>2</th>\n",
       "      <td>402</td>\n",
       "      <td>1</td>\n",
       "      <td>LUIS</td>\n",
       "      <td>YANEZ</td>\n",
       "      <td>LUIS.YANEZ@sakilacustomer.org</td>\n",
       "      <td>407</td>\n",
       "      <td>1</td>\n",
       "      <td>2006-02-14 22:04:37.000</td>\n",
       "      <td>2011-09-14 18:10:39</td>\n",
       "    </tr>\n",
       "    <tr>\n",
       "      <th>3</th>\n",
       "      <td>318</td>\n",
       "      <td>1</td>\n",
       "      <td>BRIAN</td>\n",
       "      <td>WYMAN</td>\n",
       "      <td>BRIAN.WYMAN@sakilacustomer.org</td>\n",
       "      <td>323</td>\n",
       "      <td>1</td>\n",
       "      <td>2006-02-14 22:04:37.000</td>\n",
       "      <td>2011-09-14 18:10:37</td>\n",
       "    </tr>\n",
       "    <tr>\n",
       "      <th>4</th>\n",
       "      <td>31</td>\n",
       "      <td>2</td>\n",
       "      <td>BRENDA</td>\n",
       "      <td>WRIGHT</td>\n",
       "      <td>BRENDA.WRIGHT@sakilacustomer.org</td>\n",
       "      <td>35</td>\n",
       "      <td>1</td>\n",
       "      <td>2006-02-14 22:04:36.000</td>\n",
       "      <td>2011-09-14 18:10:29</td>\n",
       "    </tr>\n",
       "  </tbody>\n",
       "</table>\n",
       "</div>"
      ],
      "text/plain": [
       "   customer_id  store_id first_name last_name  \\\n",
       "0           28         1    CYNTHIA     YOUNG   \n",
       "1          413         2     MARVIN       YEE   \n",
       "2          402         1       LUIS     YANEZ   \n",
       "3          318         1      BRIAN     WYMAN   \n",
       "4           31         2     BRENDA    WRIGHT   \n",
       "\n",
       "                              email  address_id active  \\\n",
       "0  CYNTHIA.YOUNG@sakilacustomer.org          32      1   \n",
       "1     MARVIN.YEE@sakilacustomer.org         418      1   \n",
       "2     LUIS.YANEZ@sakilacustomer.org         407      1   \n",
       "3    BRIAN.WYMAN@sakilacustomer.org         323      1   \n",
       "4  BRENDA.WRIGHT@sakilacustomer.org          35      1   \n",
       "\n",
       "               create_date          last_update  \n",
       "0  2006-02-14 22:04:36.000  2011-09-14 18:10:29  \n",
       "1  2006-02-14 22:04:37.000  2011-09-14 18:10:40  \n",
       "2  2006-02-14 22:04:37.000  2011-09-14 18:10:39  \n",
       "3  2006-02-14 22:04:37.000  2011-09-14 18:10:37  \n",
       "4  2006-02-14 22:04:36.000  2011-09-14 18:10:29  "
      ]
     },
     "execution_count": 13,
     "metadata": {},
     "output_type": "execute_result"
    }
   ],
   "source": [
    "query =  \"\"\"SELECT * FROM customer ORDER BY last_name DESC;\"\"\" \n",
    "sql_to_df(query).head()"
   ]
  },
  {
   "cell_type": "markdown",
   "metadata": {},
   "source": [
    "We can use the above function with given SQL query to extract information from database to a Pandas DataFrame in Python."
   ]
  },
  {
   "cell_type": "markdown",
   "metadata": {},
   "source": [
    "# Q2: SQL query and joins "
   ]
  },
  {
   "cell_type": "code",
   "execution_count": null,
   "metadata": {
    "collapsed": true
   },
   "outputs": [],
   "source": [
    "#SQL SELECT attributes from different tables:\n",
    "# suppose we have three tables, each has three attributes and three tuples: \n",
    "# tb1: K1, D11, D12\n",
    "# tb2: K2, D21, D22\n",
    "# tb3: K3, D31, D32\n",
    "\"\"\"SELECT K1,D11,K2,D21 FROM tb1, tb2\"\"\"\n",
    "# if there is no WHERE clause, this query will implement the cross product,and return with 9 tuples"
   ]
  },
  {
   "cell_type": "code",
   "execution_count": 19,
   "metadata": {
    "collapsed": false
   },
   "outputs": [
    {
     "data": {
      "text/html": [
       "<div>\n",
       "<table border=\"1\" class=\"dataframe\">\n",
       "  <thead>\n",
       "    <tr style=\"text-align: right;\">\n",
       "      <th></th>\n",
       "      <th>K1</th>\n",
       "      <th>D11</th>\n",
       "      <th>D12</th>\n",
       "    </tr>\n",
       "  </thead>\n",
       "  <tbody>\n",
       "    <tr>\n",
       "      <th>0</th>\n",
       "      <td>A</td>\n",
       "      <td>A</td>\n",
       "      <td>C</td>\n",
       "    </tr>\n",
       "    <tr>\n",
       "      <th>1</th>\n",
       "      <td>B</td>\n",
       "      <td>B</td>\n",
       "      <td>D</td>\n",
       "    </tr>\n",
       "    <tr>\n",
       "      <th>2</th>\n",
       "      <td>C</td>\n",
       "      <td>C</td>\n",
       "      <td>G</td>\n",
       "    </tr>\n",
       "  </tbody>\n",
       "</table>\n",
       "</div>"
      ],
      "text/plain": [
       "  K1 D11 D12\n",
       "0  A   A   C\n",
       "1  B   B   D\n",
       "2  C   C   G"
      ]
     },
     "execution_count": 19,
     "metadata": {},
     "output_type": "execute_result"
    }
   ],
   "source": [
    "#SQL LEFT JOIN Example:\n",
    "#tb1 LEFT JOIN tb2\n",
    "tb1 = pd.DataFrame([['A','A','C'],['B','B','D'],['C','C','G']],columns=['K1','D11','D12'])\n",
    "tb1"
   ]
  },
  {
   "cell_type": "code",
   "execution_count": 20,
   "metadata": {
    "collapsed": false
   },
   "outputs": [
    {
     "data": {
      "text/html": [
       "<div>\n",
       "<table border=\"1\" class=\"dataframe\">\n",
       "  <thead>\n",
       "    <tr style=\"text-align: right;\">\n",
       "      <th></th>\n",
       "      <th>K2</th>\n",
       "      <th>D21</th>\n",
       "      <th>D22</th>\n",
       "    </tr>\n",
       "  </thead>\n",
       "  <tbody>\n",
       "    <tr>\n",
       "      <th>0</th>\n",
       "      <td>A</td>\n",
       "      <td>A</td>\n",
       "      <td>B</td>\n",
       "    </tr>\n",
       "    <tr>\n",
       "      <th>1</th>\n",
       "      <td>B</td>\n",
       "      <td>C</td>\n",
       "      <td>D</td>\n",
       "    </tr>\n",
       "    <tr>\n",
       "      <th>2</th>\n",
       "      <td>C</td>\n",
       "      <td>C</td>\n",
       "      <td>E</td>\n",
       "    </tr>\n",
       "  </tbody>\n",
       "</table>\n",
       "</div>"
      ],
      "text/plain": [
       "  K2 D21 D22\n",
       "0  A   A   B\n",
       "1  B   C   D\n",
       "2  C   C   E"
      ]
     },
     "execution_count": 20,
     "metadata": {},
     "output_type": "execute_result"
    }
   ],
   "source": [
    "tb2 = pd.DataFrame([['A','A','B'],['B','C','D'],['C','C','E']],columns=['K2','D21','D22'])\n",
    "tb2"
   ]
  },
  {
   "cell_type": "code",
   "execution_count": 21,
   "metadata": {
    "collapsed": false
   },
   "outputs": [
    {
     "data": {
      "text/html": [
       "<div>\n",
       "<table border=\"1\" class=\"dataframe\">\n",
       "  <thead>\n",
       "    <tr style=\"text-align: right;\">\n",
       "      <th></th>\n",
       "      <th>K1</th>\n",
       "      <th>D11</th>\n",
       "      <th>D12</th>\n",
       "      <th>K2</th>\n",
       "      <th>D21</th>\n",
       "      <th>D22</th>\n",
       "    </tr>\n",
       "  </thead>\n",
       "  <tbody>\n",
       "    <tr>\n",
       "      <th>0</th>\n",
       "      <td>A</td>\n",
       "      <td>A</td>\n",
       "      <td>C</td>\n",
       "      <td>A</td>\n",
       "      <td>A</td>\n",
       "      <td>B</td>\n",
       "    </tr>\n",
       "    <tr>\n",
       "      <th>1</th>\n",
       "      <td>B</td>\n",
       "      <td>B</td>\n",
       "      <td>C</td>\n",
       "      <td></td>\n",
       "      <td></td>\n",
       "      <td></td>\n",
       "    </tr>\n",
       "    <tr>\n",
       "      <th>2</th>\n",
       "      <td>C</td>\n",
       "      <td>C</td>\n",
       "      <td>G</td>\n",
       "      <td>C</td>\n",
       "      <td>C</td>\n",
       "      <td>E</td>\n",
       "    </tr>\n",
       "  </tbody>\n",
       "</table>\n",
       "</div>"
      ],
      "text/plain": [
       "  K1 D11 D12 K2 D21 D22\n",
       "0  A   A   C  A   A   B\n",
       "1  B   B   C           \n",
       "2  C   C   G  C   C   E"
      ]
     },
     "execution_count": 21,
     "metadata": {},
     "output_type": "execute_result"
    }
   ],
   "source": [
    "\"\"\"SELECT * FROM tb1 LEFT JOIN tb2 on K1=K2 AND D11=D21\"\"\"\n",
    "#this will return a table which looks like tb3\n",
    "tb3 = pd.DataFrame([['A','A','C','A','A','B'],['B','B','C','','',''],['C','C','G','C','C','E']],columns=['K1','D11','D12','K2','D21','D22'])\n",
    "tb3"
   ]
  },
  {
   "cell_type": "markdown",
   "metadata": {},
   "source": [
    "Row 0 and row 2 in tb1 all have corresponding tuples in tb2 which meet the ON clause, and row 1 in the left table tb1 will also return even if there is no match in the right table tb2."
   ]
  },
  {
   "cell_type": "markdown",
   "metadata": {},
   "source": [
    "# Q3: Write the sort algorithm in Python"
   ]
  },
  {
   "cell_type": "code",
   "execution_count": 23,
   "metadata": {
    "collapsed": true
   },
   "outputs": [],
   "source": [
    "#bubble sort:\n",
    "def bubble_sort(x): # x is a list such as [5,2,7,3,1,10]\n",
    "    for i in range(len(x)):\n",
    "        for j in range(i+1,len(x)):\n",
    "            if x[i] > x[j]:\n",
    "                temp = x[i]\n",
    "                x[i] = x[j]\n",
    "                x[j] = temp\n",
    "    return x"
   ]
  },
  {
   "cell_type": "code",
   "execution_count": 24,
   "metadata": {
    "collapsed": false
   },
   "outputs": [
    {
     "data": {
      "text/plain": [
       "[1, 2, 3, 5, 7, 10]"
      ]
     },
     "execution_count": 24,
     "metadata": {},
     "output_type": "execute_result"
    }
   ],
   "source": [
    "x = [5,2,7,3,1,10]\n",
    "bubble_sort(x)"
   ]
  },
  {
   "cell_type": "markdown",
   "metadata": {},
   "source": [
    "The complexity is O(n^2), which is not the most efficient algorithm for sorting."
   ]
  },
  {
   "cell_type": "code",
   "execution_count": 29,
   "metadata": {
    "collapsed": true
   },
   "outputs": [],
   "source": [
    "# quick_sort:\n",
    "def quick_sort(x):\n",
    "    quick_sort_helper(x,0,len(x)-1)\n",
    "    return x\n",
    "\n",
    "def quick_sort_helper(x,first,last):\n",
    "    if first < last:\n",
    "        splitpoint = partition(x,first,last)\n",
    "        quick_sort_helper(x,first,splitpoint-1)\n",
    "        quick_sort_helper(x,splitpoint+1,last)\n",
    "        \n",
    "def partition(x,first,last):\n",
    "    pivotvalue = x[first]\n",
    "    \n",
    "    leftmark = first + 1\n",
    "    rightmark = last\n",
    "    done = False\n",
    "    \n",
    "    while not done:\n",
    "        while leftmark <= rightmark and x[leftmark] <= pivotvalue:\n",
    "            leftmark += 1\n",
    "        while leftmark <= rightmark and x[rightmark] >=pivotvalue:\n",
    "            rightmark -= 1\n",
    "        \n",
    "        if leftmark > rightmark:\n",
    "            done = True\n",
    "        else:\n",
    "            temp = x[leftmark]\n",
    "            x[leftmark]=x[rightmark]\n",
    "            x[rightmark]=temp\n",
    "    \n",
    "    temp = x[first]\n",
    "    x[first] = x[rightmark]\n",
    "    x[rightmark] = temp\n",
    "    \n",
    "    return rightmark"
   ]
  },
  {
   "cell_type": "code",
   "execution_count": 30,
   "metadata": {
    "collapsed": false
   },
   "outputs": [
    {
     "data": {
      "text/plain": [
       "[1, 2, 3, 5, 7, 10]"
      ]
     },
     "execution_count": 30,
     "metadata": {},
     "output_type": "execute_result"
    }
   ],
   "source": [
    "x = [5,2,7,3,1,10]\n",
    "quick_sort(x)"
   ]
  },
  {
   "cell_type": "markdown",
   "metadata": {},
   "source": [
    "The average time complexity of quicksort is O(nlogn), which is better than bubble sort O(n^2)."
   ]
  },
  {
   "cell_type": "code",
   "execution_count": 38,
   "metadata": {
    "collapsed": true
   },
   "outputs": [],
   "source": [
    "#merge_sort:\n",
    "def merge_sort(x):\n",
    "    if len(x)>1:\n",
    "        mid = len(x)/2\n",
    "        lefthalf = x[:mid]\n",
    "        righthalf = x[mid:]\n",
    "\n",
    "        merge_sort(lefthalf)\n",
    "        merge_sort(righthalf)\n",
    "\n",
    "        i=0\n",
    "        j=0\n",
    "        k=0\n",
    "        while i < len(lefthalf) and j < len(righthalf):\n",
    "            if lefthalf[i] < righthalf[j]:\n",
    "                x[k]=lefthalf[i]\n",
    "                i=i+1\n",
    "            else:\n",
    "                x[k]=righthalf[j]\n",
    "                j=j+1\n",
    "            k=k+1\n",
    "\n",
    "        while i < len(lefthalf):\n",
    "            x[k]=lefthalf[i]\n",
    "            i=i+1\n",
    "            k=k+1\n",
    "\n",
    "        while j < len(righthalf):\n",
    "            x[k]=righthalf[j]\n",
    "            j=j+1\n",
    "            k=k+1\n",
    "    return x"
   ]
  },
  {
   "cell_type": "code",
   "execution_count": 39,
   "metadata": {
    "collapsed": false
   },
   "outputs": [
    {
     "data": {
      "text/plain": [
       "[1, 2, 3, 5, 7, 10]"
      ]
     },
     "execution_count": 39,
     "metadata": {},
     "output_type": "execute_result"
    }
   ],
   "source": [
    "x = [5,2,7,3,1,10]\n",
    "merge_sort(x)"
   ]
  },
  {
   "cell_type": "markdown",
   "metadata": {},
   "source": [
    "The merge sort algorithm time complexity is O(nlogn)."
   ]
  },
  {
   "cell_type": "markdown",
   "metadata": {},
   "source": [
    "# Q4: How to test whether a distribution is normal distribution?"
   ]
  },
  {
   "cell_type": "code",
   "execution_count": 59,
   "metadata": {
    "collapsed": true
   },
   "outputs": [],
   "source": [
    "from scipy import stats\n",
    "import numpy as np\n",
    "import matplotlib.pyplot as plt\n",
    "%matplotlib inline\n",
    "import seaborn as sns"
   ]
  },
  {
   "cell_type": "code",
   "execution_count": 84,
   "metadata": {
    "collapsed": false
   },
   "outputs": [
    {
     "data": {
      "text/plain": [
       "KstestResult(statistic=0.083266748529864543, pvalue=0.4732461613884249)"
      ]
     },
     "execution_count": 84,
     "metadata": {},
     "output_type": "execute_result"
    }
   ],
   "source": [
    "np.random.seed(1)\n",
    "stats.kstest(stats.norm.rvs(size=100),'norm')"
   ]
  },
  {
   "cell_type": "code",
   "execution_count": 86,
   "metadata": {
    "collapsed": false
   },
   "outputs": [
    {
     "data": {
      "text/plain": [
       "<matplotlib.axes._subplots.AxesSubplot at 0x10dd03610>"
      ]
     },
     "execution_count": 86,
     "metadata": {},
     "output_type": "execute_result"
    },
    {
     "data": {
      "image/png": "[encoded data removed]",
      "text/plain": [
       "<matplotlib.figure.Figure at 0x10d315fd0>"
      ]
     },
     "metadata": {},
     "output_type": "display_data"
    }
   ],
   "source": [
    "sns.kdeplot(stats.norm.rvs(0,size=1000))"
   ]
  },
  {
   "cell_type": "markdown",
   "metadata": {},
   "source": [
    "Here we have p value greater than 0.05, which means we cannot reject the null hypothesis (There is no significant difference between the Cumulative Distribution Function of standard normal distribution and our distribution)."
   ]
  },
  {
   "cell_type": "code",
   "execution_count": 90,
   "metadata": {
    "collapsed": false
   },
   "outputs": [
    {
     "data": {
      "text/plain": [
       "KstestResult(statistic=0.50004563155995296, pvalue=0.0)"
      ]
     },
     "execution_count": 90,
     "metadata": {},
     "output_type": "execute_result"
    }
   ],
   "source": [
    "np.random.seed(1)\n",
    "stats.kstest(stats.expon.rvs(size=100),'norm')"
   ]
  },
  {
   "cell_type": "code",
   "execution_count": 89,
   "metadata": {
    "collapsed": false
   },
   "outputs": [
    {
     "data": {
      "text/plain": [
       "<matplotlib.axes._subplots.AxesSubplot at 0x10cf8af10>"
      ]
     },
     "execution_count": 89,
     "metadata": {},
     "output_type": "execute_result"
    },
    {
     "data": {
      "image/png": "[encoded data removed]",
      "text/plain": [
       "<matplotlib.figure.Figure at 0x10d15cf50>"
      ]
     },
     "metadata": {},
     "output_type": "display_data"
    }
   ],
   "source": [
    "sns.kdeplot(stats.expon.rvs(size=100))\n",
    "sns.kdeplot(stats.norm.rvs(0,size=100))"
   ]
  },
  {
   "cell_type": "markdown",
   "metadata": {},
   "source": [
    "Here we have p value less than 0.05, therefore we reject the null hypothesis (the CDF for given distribution has great significant difference with the CDF of normal distribution).(the actual distribution is a exponential distribution.)"
   ]
  },
  {
   "cell_type": "code",
   "execution_count": 91,
   "metadata": {
    "collapsed": false
   },
   "outputs": [
    {
     "data": {
      "image/png": "[encoded data removed]",
      "text/plain": [
       "<matplotlib.figure.Figure at 0x10d697150>"
      ]
     },
     "metadata": {},
     "output_type": "display_data"
    }
   ],
   "source": [
    "x = stats.norm.rvs(size=100)\n",
    "res = stats.probplot(x, plot=plt)"
   ]
  },
  {
   "cell_type": "markdown",
   "metadata": {},
   "source": [
    "From the above normal QQ plot, we can see the points are very close to the straight line."
   ]
  },
  {
   "cell_type": "code",
   "execution_count": 92,
   "metadata": {
    "collapsed": false
   },
   "outputs": [
    {
     "data": {
      "image/png": "[encoded data removed]",
      "text/plain": [
       "<matplotlib.figure.Figure at 0x10efe0190>"
      ]
     },
     "metadata": {},
     "output_type": "display_data"
    }
   ],
   "source": [
    "x = stats.expon.rvs(size=100)\n",
    "res = stats.probplot(x, plot=plt)"
   ]
  },
  {
   "cell_type": "markdown",
   "metadata": {},
   "source": [
    "But if the distribution is exponential, the points are not close to the straight line. So that we can confirm that the variable does not follow normal distribution."
   ]
  },
  {
   "cell_type": "markdown",
   "metadata": {},
   "source": [
    "# Feature Selection Method"
   ]
  },
  {
   "cell_type": "markdown",
   "metadata": {},
   "source": [
    "1.Univariate Selection: Such as SelectKBest class in sklearn which is used with a set of statistical tests to select a specific number of features, such as using the Chi-square test for non-negative features."
   ]
  },
  {
   "cell_type": "markdown",
   "metadata": {},
   "source": [
    "2.Recursive Feature Elimination: remove a attribute and build a model on the remaining attributes, use the model accuracy to identify which attribute contributes the most to the target attribute."
   ]
  },
  {
   "cell_type": "markdown",
   "metadata": {},
   "source": [
    "3.Principle Component Analysis, which is a widely used dimension reduction method to transform the data into a compact form. "
   ]
  },
  {
   "cell_type": "markdown",
   "metadata": {},
   "source": [
    "4.If using random forest method, you can import ExtraTreeClassifier in sklearn, which will give a score of importance for each feature in the dataset.  "
   ]
  },
  {
   "cell_type": "code",
   "execution_count": null,
   "metadata": {
    "collapsed": true
   },
   "outputs": [],
   "source": []
  }
 ],
 "metadata": {
  "kernelspec": {
   "display_name": "Python 2",
   "language": "python",
   "name": "python2"
  },
  "language_info": {
   "codemirror_mode": {
    "name": "ipython",
    "version": 2
   },
   "file_extension": ".py",
   "mimetype": "text/x-python",
   "name": "python",
   "nbconvert_exporter": "python",
   "pygments_lexer": "ipython2",
   "version": "2.7.12"
  }
 },
 "nbformat": 4,
 "nbformat_minor": 0
}
